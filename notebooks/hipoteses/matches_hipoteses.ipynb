{
  "cells": [
    {
      "cell_type": "markdown",
      "metadata": {
        "id": "aKqBnAbY_yFy"
      },
      "source": [
        "# Hipótese do Arquivo Matches\n",
        "\n",
        "Este notebook será utilizado para apresentar e testar uma hipótese baseada nos dados da tabela **Matches** fornecida pela IBM, que contém informações detalhadas sobre partidas de futebol, incluindo times, resultados e estatísticas associadas. O foco principal é analisar os dados e validar uma hipótese específica relacionada ao desempenho dos times.\n",
        "\n",
        "## Objetivo\n",
        "\n",
        "O objetivo deste notebook é estruturar a hipótese de maneira clara e realizar análises que possam confirmá-la ou refutá-la, utilizando métodos estatísticos e exploratórios.\n",
        "\n",
        "## Como Usar Este Notebook\n",
        "\n",
        "1. **Configuração do Ambiente**:\n",
        "   - **Google Colab**: No Google Colab, faça o upload das tabelas para o Google Drive e monte o drive no notebook.\n",
        "   - **Localmente**: Se for rodar localmente, ajuste os caminhos dos arquivos ou coloque-os no mesmo diretório do notebook.\n",
        "\n",
        "2. **Instalação de Dependências**:\n",
        "   - Instale todas as bibliotecas necessárias com o comando:\n",
        "     ```python\n",
        "     !pip install -r requirements.txt\n",
        "     ```\n",
        "\n",
        "3. **Execução do Notebook**:\n",
        "   - Execute as células de código na sequência para garantir a correta análise dos dados.\n",
        "\n",
        "## Nesse Notebook Será Abordado\n",
        "\n",
        "1. **Formulação e Teste de Hipóteses**:\n",
        "   - Definição de uma hipótese com base nos dados.\n",
        "   - Teste da hipótese utilizando métodos estatísticos.\n",
        "   - Análise dos resultados para validar ou refutar a hipótese.\n"
      ]
    },
    {
      "cell_type": "markdown",
      "metadata": {
        "id": "ijIwb3AL_yF1"
      },
      "source": [
        "# Dependências\n",
        "Para rodar o notebook de forma local, é recomendado que inicie uma venv (ambiente virtual) e instale as dependências.\n",
        "\n",
        "Se estiver utilizando o Google Colab, pule esta etapa."
      ]
    },
    {
      "cell_type": "markdown",
      "metadata": {
        "id": "377ADtO50l49"
      },
      "source": [
        "# Importando bibliotecas\n",
        "\n",
        "Aqui é importado as dependências necessárias para a executação do projeto."
      ]
    },
    {
      "cell_type": "code",
      "execution_count": 3,
      "metadata": {
        "id": "8Wx5s42OQqMr"
      },
      "outputs": [],
      "source": [
        "import pandas as pd #para ler, visualizar e printar infos do df\n",
        "import matplotlib.pyplot as plt #para construir e customizar gráficos\n",
        "import seaborn as sns #para visualizar uns gráficos\n",
        "import numpy as np #numpy porque é sempre bom importar numpy"
      ]
    },
    {
      "cell_type": "markdown",
      "metadata": {
        "id": "pUULBGIl0pyp"
      },
      "source": [
        "# Carregando o dataset\n",
        "\n",
        "Feita a importação do arquivo para leitura dos dados."
      ]
    },
    {
      "cell_type": "code",
      "execution_count": null,
      "metadata": {
        "id": "al14FkqhuuTm"
      },
      "outputs": [],
      "source": [
        "# Carregar os dados das partidas\n",
        "df = pd.read_csv('../../notebooks/data/tratado/matches_tratado.csv')"
      ]
    },
    {
      "cell_type": "markdown",
      "metadata": {
        "id": "5rQoLk4kQlOK"
      },
      "source": [
        "# 1. Hipóteses"
      ]
    },
    {
      "cell_type": "markdown",
      "metadata": {},
      "source": [
        "### Hipótese 1 (Principal utilizada no modelo preditivo)\n",
        "### Probabilidade de qual time vai ganhar\n",
        "#### Time da casa"
      ]
    },
    {
      "cell_type": "code",
      "execution_count": null,
      "metadata": {},
      "outputs": [],
      "source": [
        "# Exemplo de dados hipotéticos de probabilidade para os times (previsão feita anteriormente)\n",
        "times = ['Flamengo', 'Palmeiras']\n",
        "probabilidades = [0.65, 0.35]  # Supondo que o Flamengo tenha 65% de chance de ganhar e o Palmeiras 35%\n",
        "\n",
        "# Criar o gráfico de barras\n",
        "plt.figure(figsize=(8, 6))\n",
        "plt.bar(times, probabilidades, color=['red', 'green'])\n",
        "\n",
        "# Adicionar títulos e rótulos\n",
        "plt.title('Probabilidade de Vitória - Flamengo x Palmeiras')\n",
        "plt.xlabel('Times')\n",
        "plt.ylabel('Probabilidade de Vitória')\n",
        "\n",
        "# Mostrar as porcentagens no topo das barras\n",
        "for i, v in enumerate(probabilidades):\n",
        "    plt.text(i, v + 0.01, f'{v*100:.1f}%', ha='center', fontsize=12)\n",
        "\n",
        "plt.ylim(0, 1)  # Limitar o eixo y de 0 a 1 para representar porcentagens\n",
        "plt.show()"
      ]
    },
    {
      "cell_type": "markdown",
      "metadata": {},
      "source": [
        "### Análise:\n",
        "\n",
        "**Observação:** Nessa hipótese foi utilizado como exemplo o time Flamengo e o Palmeiras, com a variável probabilidade imputada manualmente, tudo apenas para análise.\n",
        "\n",
        "**Probabilidade de Vitória:**\n",
        "  - **Flamengo**: A barra do Flamengo indica uma probabilidade de 65% de vitória, sugerindo que, com base nas análises anteriores, o time tem maior chance de ganhar a partida.\n",
        "  - **Palmeiras**: A barra do Palmeiras mostra uma probabilidade de 35%, indicando que este time tem uma chance menor de vencer o confronto em comparação com o Flamengo.\n",
        "\n",
        "<br>\n",
        "\n",
        "### ***Conclusões:***\n",
        "\n",
        "O gráfico apresenta uma clara diferença nas probabilidades de vitória entre os dois times. As principais observações incluem:\n",
        "\n",
        "* **Flamengo**: Com uma probabilidade de 65%, o Flamengo é apontado como o favorito para vencer a partida.\n",
        "* **Palmeiras**: O Palmeiras, com 35% de chance, é visto como o time menos provável de ganhar este confronto específico.\n",
        "* A visualização sugere uma vantagem do Flamengo em termos de probabilidade, porém não garante o resultado final, apenas reflete a tendência com base nos dados analisados.\n",
        "\n",
        "Essa hipótese representa um exemplo do tipo de previsão que nosso modelo irá realizar. O modelo preditivo será utilizado para estimar a probabilidade de vitória de diferentes times com base em dados históricos e análises preditivas, fornecendo insights semelhantes aos que foram demonstrados neste gráfico.\n"
      ]
    },
    {
      "cell_type": "markdown",
      "metadata": {},
      "source": [
        "### Hipótese 2\n",
        "### Equipes que sofrem mais escanteios tendem a ter um menor número de vitórias"
      ]
    },
    {
      "cell_type": "code",
      "execution_count": null,
      "metadata": {},
      "outputs": [],
      "source": [
        "df['result'] = np.where(df['home_team_goal_count'] > df['away_team_goal_count'], 'home_win',\n",
        "                           np.where(df['home_team_goal_count'] < df['away_team_goal_count'], 'away_win', 'tie'))\n",
        "\n",
        "\n",
        "# Supondo que os valores reais na coluna 'result' sejam, por exemplo, 'away_win', 'tie', 'home_win':\n",
        "df['Resultado'] = df['result'].map({\n",
        "    'away_win': 'Vitória Visitante',\n",
        "    'tie': 'Empate',\n",
        "    'home_win': 'Vitória da Casa'\n",
        "})\n",
        "\n",
        "# Criar a coluna 'Escanteios'\n",
        "df['Escanteios'] = df['home_team_corner_count'] + df['away_team_corner_count']\n",
        "\n",
        "# Agora podemos aplicar o melt com segurança\n",
        "df_melted = df.melt(id_vars=['Resultado', 'Escanteios'], \n",
        "                    value_vars=['home_team_corner_count', 'away_team_corner_count'],\n",
        "                    var_name='Time', value_name='Escanteios_Individuais')\n",
        "\n",
        "# Substituir os nomes para 'Casa' e 'Visitante' na coluna 'Time'\n",
        "df_melted['Time'] = df_melted['Time'].map({\n",
        "    'home_team_corner_count': 'Casa',\n",
        "    'away_team_corner_count': 'Visitante'\n",
        "})\n",
        "\n",
        "# Criar o plot\n",
        "sns.violinplot(x='Resultado', y='Escanteios_Individuais', hue='Time', data=df_melted, split=True)\n",
        "plt.title('Relação entre Escanteios e Resultado da Partida')\n",
        "plt.xlabel('Resultado da Partida')\n",
        "plt.ylabel('Número de Escanteios')\n",
        "plt.legend(title='Time', loc='upper left')\n",
        "plt.show()"
      ]
    },
    {
      "cell_type": "markdown",
      "metadata": {},
      "source": [
        "### Análise:\n",
        "\n",
        "**Vitória da Casa:**\n",
        "        O gráfico mostra que, em jogos em que o time da casa venceu, a distribuição dos escanteios está ligeiramente mais alta para o time da casa em comparação ao time visitante. Isso sugere que, na maioria das vezes, o time da casa conseguiu mais escanteios em partidas que venceu.\n",
        "\n",
        "**Empate:**\n",
        "        No caso de empates, a distribuição dos escanteios é mais similar entre os dois times, o que é esperado, dado que o resultado da partida foi equilibrado.\n",
        "\n",
        "**Vitória Visitante:**\n",
        "        Aqui, a distribuição dos escanteios tende a ser mais elevada para o time visitante, o que indica que, em jogos onde o time visitante venceu, ele frequentemente obteve mais escanteios que o time da casa.\n",
        "\n",
        "<br>\n",
        "\n",
        "### ***Conclusões:***\n",
        "\n",
        "* **Escanteios como Indicador de Dominância:** Este gráfico pode sugerir que o número de escanteios pode estar relacionado com o domínio de um time durante o jogo, que muitas vezes se reflete no resultado final. Times que dominam em escanteios também tendem a vencer o jogo, seja em casa ou fora.\n",
        "\n",
        "* **Equilíbrio em Empates:** Em jogos que terminam em empate, os números de escanteios para ambos os times são mais equilibrados, reforçando a ideia de que esses jogos foram mais equilibrados em termos de oportunidades.\n",
        "\n",
        "<br>\n",
        "\n",
        "&nbsp;&nbsp;&nbsp;&nbsp;Este gráfico visualiza bem a relação entre a quantidade de escanteios e o resultado das partidas, destacando como essa métrica pode estar associada ao sucesso de um time em termos de vitória ou derrota."
      ]
    },
    {
      "cell_type": "markdown",
      "metadata": {},
      "source": [
        "### Hipótese 3"
      ]
    },
    {
      "cell_type": "code",
      "execution_count": null,
      "metadata": {},
      "outputs": [],
      "source": [
        "# Transformando os dados para o formato longo\n",
        "df_melted = pd.melt(df, id_vars='result', value_vars=['home_team_red_cards', 'away_team_red_cards'],\n",
        "                    var_name='Time', value_name='Cartões Vermelhos')\n",
        "\n",
        "# Mapeando os valores de 'Time' para etiquetas mais legíveis\n",
        "df_melted['Time'] = df_melted['Time'].map({'home_team_red_cards': 'Time da Casa', 'away_team_red_cards': 'Time Adversário'})\n",
        "\n",
        "# Criando o Violin Plot\n",
        "plt.figure(figsize=(10, 6))\n",
        "sns.violinplot(x='result', y='Cartões Vermelhos', hue='Time', data=df_melted, split=True)\n",
        "\n",
        "plt.title('Relação entre Cartões Vermelhos e Resultado da Partida')\n",
        "plt.xlabel('Resultado da Partida')\n",
        "plt.ylabel('Número de Cartões Vermelhos')\n",
        "plt.grid(True)\n",
        "plt.legend(title='Time', loc='upper right')\n",
        "plt.show()"
      ]
    },
    {
      "cell_type": "markdown",
      "metadata": {},
      "source": [
        "### Análise:\n",
        "\n",
        "**Vitória do Time da Casa (home_win):**\n",
        "        Observa-se que, em geral, o time da casa tende a receber poucos ou nenhum cartão vermelho quando vence a partida. A distribuição é mais larga perto de zero para os cartões vermelhos, indicando que, na maioria das vitórias da casa, poucos cartões vermelhos foram recebidos.\n",
        "        O time visitante também apresenta uma tendência similar, mas com uma leve inclinação para mais cartões vermelhos em algumas vitórias do time da casa.\n",
        "\n",
        "**Empate (tie):**\n",
        "        Em jogos que terminam empatados, tanto o time da casa quanto o visitante tendem a ter uma distribuição mais uniforme de cartões vermelhos, embora ainda seja mais comum que ambos os times recebam poucos cartões vermelhos.\n",
        "\n",
        "**Vitória do Time Visitante (away_win):**\n",
        "        O padrão se repete, onde os times da casa tendem a ter menos cartões vermelhos em jogos que perdem.\n",
        "        No entanto, o time visitante, ao vencer, parece ter uma leve distribuição de mais cartões vermelhos, sugerindo que mesmo com mais cartões, eles ainda podem sair vitoriosos.\n",
        "\n",
        "<br>\n",
        "\n",
        "### ***Conclusões:***\n",
        "\n",
        "A maioria dos jogos, independentemente do resultado, tende a envolver poucos cartões vermelhos, com algumas exceções.\n",
        "Não há uma correlação muito forte visível entre o número de cartões vermelhos e as derrotas, mas parece haver uma tendência de que times que perdem (seja em casa ou fora) não recebam tantos cartões vermelhos como o esperado, ou que mesmo recebendo, isso não afeta diretamente o resultado da vitória ou derrota.\n",
        "\n",
        "<br>\n",
        "\n",
        "Este gráfico sugere que, embora os cartões vermelhos sejam um fator de desvantagem, eles não são necessariamente determinantes para o resultado da partida, pelo menos no contexto dos dados apresentados."
      ]
    },
    {
      "cell_type": "markdown",
      "metadata": {
        "id": "2a6M--fBqXgn"
      },
      "source": [
        "# 2. Referências\n",
        "\n",
        "Está é uma seção de referências com relação as bibliotecas que utilizamos ao longo deste arquivo\n",
        "\n",
        "NUMPY. NumPy Documentation. Disponível em: <https://numpy.org/doc/>.\n",
        "\n",
        "‌PANDAS. pandas documentation. Disponível em: <https://pandas.pydata.org/docs/>.\n",
        "\n",
        "MATPLOTLIB. Matplotlib: Python plotting — Matplotlib 3.3.4 documentation. Disponível em: <https://matplotlib.org/stable/index.html>.\n",
        "\n",
        "‌SEABORN. seaborn: statistical data visualization — seaborn 0.9.0 documentation. Disponível em: <https://seaborn.pydata.org/>.\n",
        "\n",
        "‌SciPy documentation — SciPy v1.8.1 Manual. Disponível em: <https://docs.scipy.org/doc/scipy/>.\n",
        "\n",
        "‌PYTHON SOFTWARE FOUNDATION. Math — Mathematical Functions — Python 3.8.3rc1 Documentation. Disponível em: <https://docs.python.org/3/library/math.html>.\n",
        "\n",
        "‌SCIKIT-LEARN. scikit-learn: machine learning in Python. Disponível em: <https://scikit-learn.org/stable/>.\n"
      ]
    }
  ],
  "metadata": {
    "colab": {
      "provenance": []
    },
    "kernelspec": {
      "display_name": "Python 3",
      "name": "python3"
    },
    "language_info": {
      "codemirror_mode": {
        "name": "ipython",
        "version": 3
      },
      "file_extension": ".py",
      "mimetype": "text/x-python",
      "name": "python",
      "nbconvert_exporter": "python",
      "pygments_lexer": "ipython3",
      "version": "3.12.4"
    }
  },
  "nbformat": 4,
  "nbformat_minor": 0
}
