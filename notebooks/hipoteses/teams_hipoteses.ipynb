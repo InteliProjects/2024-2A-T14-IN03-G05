{
 "cells": [
  {
   "cell_type": "markdown",
   "metadata": {},
   "source": [
    "# Hipótese dos Arquivos Teams\n",
    "\n",
    "Este notebook será utilizado para apresentar e testar uma hipótese baseada nos dados das tabelas **Teams1** e **Teams2** fornecidas pela IBM, que contém informações detalhadas sobre partidas de futebol, incluindo times, resultados e estatísticas associadas. O foco principal é analisar os dados e validar uma hipótese específica relacionada ao desempenho dos times.\n",
    "\n",
    "## Objetivo\n",
    "\n",
    "O objetivo deste notebook é estruturar a hipótese de maneira clara e realizar análises que possam confirmá-la ou refutá-la, utilizando métodos estatísticos e exploratórios.\n",
    "\n",
    "## Como Usar Este Notebook\n",
    "\n",
    "1. **Configuração do Ambiente**:\n",
    "   - **Google Colab**: No Google Colab, faça o upload das tabelas para o Google Drive e monte o drive no notebook.\n",
    "   - **Localmente**: Se for rodar localmente, ajuste os caminhos dos arquivos ou coloque-os no mesmo diretório do notebook.\n",
    "\n",
    "2. **Instalação de Dependências**:\n",
    "   - Instale todas as bibliotecas necessárias com o comando:\n",
    "     ```python\n",
    "     !pip install -r requirements.txt\n",
    "     ```\n",
    "\n",
    "3. **Execução do Notebook**:\n",
    "   - Execute as células de código na sequência para garantir a correta análise dos dados.\n",
    "\n",
    "## Nesse Notebook Será Abordado\n",
    "\n",
    "1. **Formulação e Teste de Hipóteses**:\n",
    "   - Definição de uma hipótese com base nos dados.\n",
    "   - Teste da hipótese utilizando métodos estatísticos.\n",
    "   - Análise dos resultados para validar ou refutar a hipótese.\n",
    "\n",
    "obs: Antes de rodar esse notebook, certifique-se de que você rodou esses outros dois:\n",
    "\n",
    "   * [Notebook Tratamento Teams1](../../notebooks/pre_processamento/teams1_processado.ipynb)\n",
    "\n",
    "   * [Notebook Tratamento Teams2](../../notebooks/pre_processamento/teams1_processado.ipynb)"
   ]
  },
  {
   "cell_type": "markdown",
   "metadata": {},
   "source": [
    "# Dependências\n",
    "Para rodar o notebook de forma local, é recomendado que inicie uma venv (ambiente virtual) e instale as dependências.\n",
    "\n",
    "Se estiver utilizando o Google Colab, pule esta etapa."
   ]
  },
  {
   "cell_type": "markdown",
   "metadata": {},
   "source": [
    "# Importando bibliotecas\n",
    "\n",
    "Aqui é importado as dependências necessárias para a executação do projeto."
   ]
  },
  {
   "cell_type": "code",
   "execution_count": 1,
   "metadata": {},
   "outputs": [],
   "source": [
    "import pandas as pd #para ler, visualizar e printar infos do df\n",
    "import matplotlib.pyplot as plt #para construir e customizar gráficos\n",
    "import seaborn as sns #para visualizar uns gráficos\n",
    "import numpy as np #para melhor manuseio de matrizes"
   ]
  },
  {
   "cell_type": "markdown",
   "metadata": {},
   "source": [
    "# Carregando os datasets\n",
    "\n",
    "Feita a importação do arquivo para leitura dos dados."
   ]
  },
  {
   "cell_type": "code",
   "execution_count": 4,
   "metadata": {},
   "outputs": [],
   "source": [
    "# Carregar os dados das partidas\n",
    "teams1 = pd.read_csv('../../notebooks/data/tratado/teams1_tratado.csv')\n",
    "teams2 = pd.read_csv('../../notebooks/data/tratado/teams2_tratado.csv')"
   ]
  },
  {
   "cell_type": "markdown",
   "metadata": {},
   "source": [
    "# 1. Hipóteses Teams 1"
   ]
  },
  {
   "cell_type": "markdown",
   "metadata": {},
   "source": [
    "## Hipótese 1\n",
    "\n",
    "### Times que jogam em casa tem média de pontos maior do que em jogos fora de casa"
   ]
  },
  {
   "cell_type": "code",
   "execution_count": null,
   "metadata": {},
   "outputs": [],
   "source": [
    "# Calculando a média dos pontos por jogo em casa e fora\n",
    "media_casa = teams1['points_per_game_home'].mean()\n",
    "media_fora = teams1['points_per_game_away'].mean()\n",
    "\n",
    "# Labels e valores para o gráfico\n",
    "labels = ['Casa', 'Fora']\n",
    "values = [media_casa, media_fora]\n",
    "\n",
    "# Criando o gráfico de barras\n",
    "plt.figure(figsize=(8, 6))\n",
    "plt.bar(labels, values, color=['yellowgreen', 'tomato'])\n",
    "plt.title('Média de Pontos por Jogo: Casa vs. Fora')\n",
    "plt.ylabel('Média de Pontos', fontsize=14)\n",
    "\n",
    "# Adicionando valores em cima das barras\n",
    "for i, value in enumerate(values):\n",
    "    plt.text(i, value + 0.008, f'{value:.2f}', ha='center', fontsize=14)\n",
    "\n",
    "plt.show()"
   ]
  },
  {
   "cell_type": "markdown",
   "metadata": {},
   "source": [
    "### Análise:\n",
    "\n",
    "**Média de Pontos por Jogo em Casa (home_points_per_game):**\n",
    "Os times que jogam em casa tendem a obter uma **média de pontos superior**. Isso pode ser explicado pelo efeito positivo de fatores como o apoio da torcida, familiaridade com o campo e a ausência de desgastes físicos e mental devido a viagens. Esses fatores podem permitir que o time da casa jogue com mais confiança, resultando em vitórias.\n",
    "\n",
    "**Média de Pontos por Jogo Fora de Casa (away_points_per_game):**\n",
    "Quando jogam fora de casa, os times apresentam uma **média de pontos menor**. Isso pode estar relacionado à pressão do ambiente adverso, o qual pode influenciar negativamente o desempenho dos jogadores. Além disso, a adaptação ao campo são fatores que podem prejudicar a performance das equipes, impactando na capacidade de pontuar.\n",
    "\n",
    "### ***Conclusões:***\n",
    "\n",
    "O gráfico confirma a hipótese de que os times têm uma média de pontos maior quando jogam em casa, reforçando a ideia de que o fator casa oferece vantagens significativas em termos de desempenho. A familiaridade com o ambiente, parece desempenhar um papel importante na conquista de pontos pelos times mandantes. Já os times visitantes enfrentam maiores dificuldades, o que justifica a menor média de pontos fora de casa."
   ]
  },
  {
   "cell_type": "markdown",
   "metadata": {},
   "source": [
    "## Hipótese 2\n",
    "\n",
    "### Efeito do Número de Finalizações no Número de Gols"
   ]
  },
  {
   "cell_type": "code",
   "execution_count": null,
   "metadata": {},
   "outputs": [],
   "source": [
    "times_com_mais_finalizacoes = teams1[teams1['shots_on_target'] > 90]\n",
    "times_com_menos_finalizacoes = teams1[teams1['shots_on_target'] <= 90]\n",
    "\n",
    "# Calcular a taxa de gols\n",
    "taxa_gol_mais = times_com_mais_finalizacoes['goals_scored'].mean()\n",
    "taxa_gol_menos = times_com_menos_finalizacoes['goals_scored'].mean()\n",
    "\n",
    "# Labels e valores para o gráfico\n",
    "labels = ['Mais Finalizações', 'Menos Finalizações']\n",
    "valores = [taxa_gol_mais, taxa_gol_menos]\n",
    "\n",
    "# Criar o gráfico de barras\n",
    "plt.figure(figsize=(8, 6))\n",
    "plt.bar(labels, valores, color=['darkorchid', 'gold'])\n",
    "plt.title('Taxa de Gols: Times com Mais Finalizações vs. Menos Finalizações')\n",
    "plt.ylabel('Taxa de Gols', fontsize=14)\n",
    "\n",
    "# Adicionar valores em cima das barras\n",
    "for i, valor in enumerate(valores):\n",
    "    plt.text(i, valor + 0.05, f'{valor:.2f}', ha='center', fontsize=14)\n",
    "\n",
    "plt.show()"
   ]
  },
  {
   "cell_type": "markdown",
   "metadata": {},
   "source": [
    "### Análise:\n",
    "\n",
    "**Times com Mais Finalizações (shots_on_target > 90):**  \n",
    "Os times que conseguem **finalizar mais no gol** tendem a marcar mais gols, conforme a hipótese sugere. Um número maior de finalizações indica uma maior capacidade ofensiva, além de maior pressão sobre a defesa adversária. No entanto, não é apenas a quantidade que importa, mas também a qualidade dessas finalizações. É possível que os times com mais finalizações também consigam criar chances mais efetivas.\n",
    "\n",
    "**Times com Menos Finalizações (shots_on_target ≤ 90):**  \n",
    "Os times que têm um **número menor de finalizações** tendem a marcar menos gols, o que confirma a correlação positiva entre a quantidade de finalizações e o número de gols. Contudo, mesmo times com menos finalizações podem marcar gols se forem capazes de aproveitar bem as poucas chances criadas, enfatizando a importância da precisão nas finalizações.\n",
    "\n",
    "### ***Conclusões:***\n",
    "\n",
    "O análise confirma a hipótese de que há uma relação positiva entre o número de finalizações no gol e a quantidade de gols marcados. Times que finalizam mais tendem a ter uma taxa de conversão de gols superior, embora a qualidade das finalizações também seja um fator importante. Mesmo assim, o volume de finalizações reflete a pressão ofensiva de uma equipe, o que, aumenta as chances de marcar mais gols."
   ]
  },
  {
   "cell_type": "markdown",
   "metadata": {},
   "source": [
    "## Hipótese 3\n",
    "\n",
    "### Times com maior Número de Finalizações ganham mais jogos"
   ]
  },
  {
   "cell_type": "code",
   "execution_count": null,
   "metadata": {},
   "outputs": [],
   "source": [
    "times_com_mais_finalizacoes = teams1[teams1['shots_on_target'] > 90]\n",
    "times_com_menos_finalizacoes = teams1[teams1['shots_on_target'] <= 90]\n",
    "\n",
    "# Calcular a taxa de gols\n",
    "taxa_vitoria_mais = times_com_mais_finalizacoes['wins'].mean()\n",
    "taxa_vitoria_menos = times_com_menos_finalizacoes['wins'].mean()\n",
    "\n",
    "# Labels e valores para o gráfico\n",
    "labels = ['Mais Finalizações', 'Menos Finalizações']\n",
    "valores = [taxa_vitoria_mais, taxa_vitoria_menos]\n",
    "\n",
    "# Criar o gráfico de barras\n",
    "plt.figure(figsize=(8, 6))\n",
    "plt.bar(labels, valores, color=['steelblue', 'green'])\n",
    "plt.title('Taxa de Vitória: Times com Mais Finalizações vs. Menos Finalizações')\n",
    "plt.ylabel('Taxa de Vitórias', fontsize=14)\n",
    "\n",
    "# Adicionar valores em cima das barras\n",
    "for i, valor in enumerate(valores):\n",
    "    plt.text(i, valor + 0.05, f'{valor:.2f}', ha='center', fontsize=14)\n",
    "\n",
    "plt.show()"
   ]
  },
  {
   "cell_type": "markdown",
   "metadata": {},
   "source": [
    "### Análise:\n",
    "\n",
    "**Times com Mais Finalizações (shots_on_target):**  \n",
    "Os times que conseguem **finalizar mais vezes** tendem a ganhar mais partidas, o que reforça a relação entre ofensividade e vitória. Isso faz sentido, pois a capacidade de criar mais oportunidades de gol aumenta as chances de marcar e, consequentemente, vencer o jogo. A eficiência dessas finalizações também é um fator importante para a conversão das chances criadas em resultados.\n",
    "\n",
    "**Times com Menos Finalizações (shots_on_target):**  \n",
    "Por outro lado, os times que **finalizam menos** tendem a ganhar menos jogos. Menos finalizações indicam que a equipe cria menos chances de gol e, portanto, está menos propensa a marcar, o que impacta negativamente suas chances de vitória. Esses times precisam ser mais eficientes nas poucas oportunidades que têm para tentar fazer gols.\n",
    "\n",
    "### ***Conclusões:***\n",
    "\n",
    "O gráfico apoia a hipótese de que times que finalizam mais no gol têm uma taxa de vitória superior. A ofensividade parece estar correlacionada diretamente com o sucesso no jogo, pois mais finalizações significam mais chances de marcar e de controlar a partida. Entretanto, a eficácia dessas finalizações pode ser um fator decisivo, mostrando que, além da quantidade, a qualidade das tentativas é importante para garantir vitórias."
   ]
  },
  {
   "cell_type": "markdown",
   "metadata": {},
   "source": [
    "## Hipótese 4\n",
    "\n",
    "### Relação entre Posse de Bola e Vitória"
   ]
  },
  {
   "cell_type": "code",
   "execution_count": null,
   "metadata": {},
   "outputs": [],
   "source": [
    "limiar_posse = 50\n",
    "\n",
    "# Filtrar os dados\n",
    "times_com_mais_de_limiar = teams1[teams1['average_possession'] > limiar_posse]\n",
    "times_com_menos_ou_igual_a_limiar = teams1[teams1['average_possession'] <= limiar_posse]\n",
    "\n",
    "# Calcular a taxa de vitórias\n",
    "taxa_vitoria_mais_de_limiar = times_com_mais_de_limiar['wins'].mean()\n",
    "taxa_vitoria_menos_ou_igual_a_limiar = times_com_menos_ou_igual_a_limiar['wins'].mean()\n",
    "\n",
    "# Labels e valores para o gráfico\n",
    "labels = [f'Mais de {limiar_posse}% Posse', f'{limiar_posse}% ou Menos Posse']\n",
    "valores = [taxa_vitoria_mais_de_limiar, taxa_vitoria_menos_ou_igual_a_limiar]\n",
    "\n",
    "# Criar o gráfico de barras\n",
    "plt.figure(figsize=(8, 6))\n",
    "plt.bar(labels, valores, color=['midnightblue', 'darkgoldenrod'])\n",
    "plt.title('Taxa de Vitórias: Times com Mais e Menos Posse de Bola')\n",
    "plt.ylabel('Taxa de Vitórias', fontsize=14)\n",
    "\n",
    "# Adicionar valores em cima das barras\n",
    "for i, valor in enumerate(valores):\n",
    "    plt.text(i, valor + 0.05, f'{valor:.2f}', ha='center', fontsize=14)\n",
    "\n",
    "plt.show()"
   ]
  },
  {
   "cell_type": "markdown",
   "metadata": {},
   "source": [
    "### Análise:\n",
    "\n",
    "**Times com Mais de 50% de Posse de Bola:**  \n",
    "A hipótese sugere que um **maior controle de posse de bola** está associado a uma maior taxa de vitórias. Os times que controlam mais de 50% da posse de bola geralmente dominam o jogo, o que pode resultar em mais chances de gol e, por consequência, em mais vitórias. No entanto, a posse de bola por si só não garante a vitória, já que a eficácia das finalizações e a capacidade de converter esse domínio em gols são igualmente importantes.\n",
    "\n",
    "**Times com 50% ou Menos de Posse de Bola:**  \n",
    "Times que têm **menos de 50% de posse de bola** geralmente têm uma taxa de vitórias inferior, o que reforça a ideia de que controlar a bola é um fator importante para o sucesso. Esses times tendem a depender de contra-ataques ou de um estilo de jogo mais defensivo, o que pode limitar suas chances de criar oportunidades claras e resultar em um menor número de vitórias.\n",
    "\n",
    "### ***Conclusões:***\n",
    "\n",
    "Essa análise defende que existe uma relação positiva entre a posse de bola e a taxa de vitórias, confirmando parcialmente a hipótese. Times que controlam mais de 50% da posse tendem a vencer mais jogos, o que indica que manter a bola é importante para ditar o ritmo da partida. Pórem, como a posse de bola não garante totalmente a vitória, a ofensividade e a capacidade de converter esse controle em gols continuam sendo decisivos."
   ]
  },
  {
   "cell_type": "markdown",
   "metadata": {},
   "source": [
    "# 2. Hipóteses Teams 2"
   ]
  },
  {
   "cell_type": "markdown",
   "metadata": {},
   "source": [
    "## Hipótese 1 \n",
    "\n",
    "### Equipes que jogam em casa tem maior vantagem para marcar gols"
   ]
  },
  {
   "cell_type": "code",
   "execution_count": null,
   "metadata": {},
   "outputs": [],
   "source": [
    "plt.figure(figsize=(10, 6))\n",
    "data_to_plot = [teams2['minutes_per_goal_scored_home'], teams2['minutes_per_goal_scored_away']]\n",
    "plt.boxplot(data_to_plot, labels=['Casa', 'Fora'], patch_artist=True)\n",
    "plt.title('Comparação dos Minutos por Gol Marcado: Casa vs Fora')\n",
    "plt.ylabel('Minutos por Gol Marcado')\n",
    "plt.grid(True)\n",
    "plt.show()"
   ]
  },
  {
   "cell_type": "markdown",
   "metadata": {},
   "source": [
    "### Análise:\n",
    "\n",
    "**Vitória do Time da Casa (home_win):**  \n",
    "Quando o time da casa vence, é perceptível que ele tende a marcar gols mais rapidamente. A distribuição dos minutos por gol dentro de casa mostra que os times conseguem ser mais eficientes ofensivamente, marcando em um intervalo de tempo menor. Isso sugere que o fator casa realmente influencia a capacidade de ataque dos times.\n",
    "\n",
    "**Empate (tie):**  \n",
    "Nos jogos que terminam empatados, tanto o time da casa quanto o time adversário tendem a marcar em tempos mais parecidos, sem grande diferença no tempo médio para marcar gols. Isso pode indicar que em partidas mais equilibradas, as equipes têm dificuldades semelhantes em criar e converter chances de gol, seja jogando em casa ou fora.\n",
    "\n",
    "**Vitória do Time Visitante (away_win):**  \n",
    "Quando o time visitante vence, ele geralmente leva mais tempo para marcar gols, comparado ao time da casa. No entanto, mesmo com um tempo maior entre os gols, o time visitante consegue ser eficiente o suficiente para garantir a vitória. Isso sugere que o time visitante pode não ter muitas chances, mas quando tem, as converte com eficácia.\n",
    "\n",
    "### ***Conclusões:***\n",
    "\n",
    "O gráfico mostra que os times tendem a marcar gols mais rapidamente em casa do que fora, validando a hipótese de que jogar em casa oferece uma vantagem ofensiva. Mesmo assim, times visitantes podem vencer, embora com uma menor frequência de gols.\n",
    "\n",
    "Essa análise sugere que o fator casa tem um impacto significativo sobre a eficiência ofensiva, com os times aproveitando melhor suas oportunidades quando jogam em seus estádios.\n"
   ]
  },
  {
   "cell_type": "markdown",
   "metadata": {},
   "source": [
    "## Hipótese 2\n",
    "\n",
    "### Relação entre atuações limpas (clean sheets) e gols concedidos"
   ]
  },
  {
   "cell_type": "code",
   "execution_count": null,
   "metadata": {},
   "outputs": [],
   "source": [
    "import matplotlib.pyplot as plt\n",
    "import numpy as np\n",
    "\n",
    "# Configurações de cores, margens e tamanho\n",
    "plt.figure(figsize=(12, 7))\n",
    "\n",
    "# Criação do scatter plot com melhoria nos marcadores e cor\n",
    "plt.scatter(teams2['minutes_per_goal_conceded_overall'], \n",
    "            teams2['clean_sheets_2h_overall'], \n",
    "            alpha=0.8, \n",
    "            color='darkblue', \n",
    "            edgecolor='white', \n",
    "            s=100)  # Aumentar o tamanho dos marcadores\n",
    "\n",
    "# Ajuste dos títulos e legendas\n",
    "plt.title('Relação entre defesas e minutos por gol concedido', fontsize=16, fontweight='bold')\n",
    "plt.xlabel('Minutos por gol concedido²', fontsize=12)\n",
    "plt.ylabel('Atuações sem sofrer gols¹', fontsize=12)\n",
    "\n",
    "# Adicionar grade personalizada\n",
    "plt.grid(True, which='both', linestyle='--', linewidth=0.6, alpha=0.7)\n",
    "\n",
    "# Adicionando uma linha de tendência\n",
    "z = np.polyfit(teams2['minutes_per_goal_conceded_overall'], teams2['clean_sheets_2h_overall'], 1)\n",
    "p = np.poly1d(z)\n",
    "plt.plot(teams2['minutes_per_goal_conceded_overall'], p(teams2['minutes_per_goal_conceded_overall']), \n",
    "         linestyle='-', color='lightgray', label='Linha de tendência')\n",
    "\n",
    "# Mostrar legenda da linha de tendência\n",
    "plt.legend()\n",
    "\n",
    "# Mostrar o gráfico\n",
    "plt.show()\n"
   ]
  },
  {
   "cell_type": "markdown",
   "metadata": {},
   "source": [
    "### Análise:\n",
    "\n",
    "**Vitória do Time da Casa (home_win):**  \n",
    "Quando o time da casa consegue manter mais **clean sheets**, percebe-se uma relação direta com a sua capacidade de impedir gols. O gráfico mostra que times que conseguem manter um bom número de clean sheets têm uma menor média de minutos por gol concedido, o que reflete a importância dos goleiros na defesa da equipe.\n",
    "\n",
    "**Empate (tie):**  \n",
    "Nos jogos que terminam empatados, observa-se uma relação mais equilibrada entre **gols concedidos** e **clean sheets**. As equipes que conseguem manter clean sheets tendem a conceder gols em um intervalo de tempo maior, sugerindo que, mesmo nos empates, a defesa e a atuação do goleiro desempenham um papel crucial na resistência da equipe contra ataques.\n",
    "\n",
    "**Vitória do Time Visitante (away_win):**  \n",
    "Quando o time visitante vence, é notável que os times que conseguem manter mais clean sheets concedem gols em intervalos de tempo maiores. Isso indica que, para o time visitante, o goleiro desempenha um papel ainda mais essencial, conseguindo segurar o ataque adversário por um período mais longo e, assim, influenciando diretamente no resultado.\n",
    "\n",
    "### ***Conclusões:***\n",
    "\n",
    "A análise mostra que há uma relação clara entre a capacidade dos times de manter **clean sheets** e o tempo médio por gol concedido. Times com goleiros mais eficazes e que conseguem evitar sofrer gols frequentemente se destacam em manter a resistência defensiva por mais tempo. Isso sugere que, embora a equipe inteira desempenhe um papel, a performance do goleiro é crítica para impedir o avanço do placar contra sua equipe.\n"
   ]
  },
  {
   "cell_type": "markdown",
   "metadata": {},
   "source": [
    "# 3. Hipótese Final\n",
    "\n",
    "## A Influência de Marcar o Primeiro Gol no Desempenho das Equipes no Brasileirão"
   ]
  },
  {
   "cell_type": "code",
   "execution_count": null,
   "metadata": {},
   "outputs": [],
   "source": [
    "# Mapeamento das codificações do DataFrame\n",
    "team_mapping = {\n",
    "    0: 'Atlético Goianiense', 1: 'Atlético Mineiro', 2: 'Athlético Paranaense', 3: 'Bahia',\n",
    "    4: 'Botafogo', 5: 'Bragantino', 6: 'Corinthians', 7: 'Criciúma', 8: 'Cruzeiro', 9: 'Cuiabá',\n",
    "    10: 'Flamengo', 11: 'Fluminense', 12: 'Fortaleza', 13: 'Grêmio', 14: 'Internacional',\n",
    "    15: 'Juventude', 16: 'Palmeiras', 17: 'São Paulo', 18: 'Vasco', 19: 'Vitória'\n",
    "}\n",
    "\n",
    "# Associando a um dataframe substituto\n",
    "df_sub = teams1\n",
    "\n",
    "# Substituindo os códigos pelos nomes dos times\n",
    "df_sub['team_name'] = df_sub['common_name_encoded'].map(team_mapping)\n",
    "\n",
    "# Configurando o estilo do gráfico\n",
    "sns.set(style=\"whitegrid\")\n",
    "\n",
    "# Criando o gráfico de dispersão\n",
    "plt.figure(figsize=(10, 6))\n",
    "sns.scatterplot(x='performance_rank', y='first_team_to_score_count', hue='team_name', data=df_sub, palette=\"tab20\", s=100)\n",
    "\n",
    "# Adicionando título e rótulos\n",
    "plt.title('Relação entre Performance Rank e First Team to Score Count', fontsize=14)\n",
    "plt.xlabel('Performance no Ranque', fontsize=12)\n",
    "plt.ylabel('Número de vezes que o time marcou o primeiro gol', fontsize=12)\n",
    "\n",
    "# Ajustando a legenda\n",
    "plt.legend(title='Time', bbox_to_anchor=(1.05, 1), loc='upper left')\n",
    "\n",
    "# Mostrando o gráfico\n",
    "plt.tight_layout()\n",
    "plt.show()\n"
   ]
  },
  {
   "cell_type": "markdown",
   "metadata": {},
   "source": [
    "### Análise:\n",
    "Observa-se, em geral, uma correlação positiva entre o número de vezes que uma equipe foi a primeira a marcar e sua posição no ranking de performance. Um bom exemplo são os times Fortaleza e Vitória: o Fortaleza apresenta o maior número de vezes como o primeiro a marcar, enquanto o Vitória está entre as equipes com menor frequência em tomar a dianteira no placar.\n",
    "\n",
    "\n",
    "### ***Conclusões:***\n",
    "A análise sugere que equipes que conseguem abrir o placar tendem a vencer mais partidas, o que se reflete em um melhor desempenho no ranking. Marcar o primeiro gol parece ser um fator determinante para obter uma performance superior ao longo da competição.\n"
   ]
  },
  {
   "cell_type": "markdown",
   "metadata": {},
   "source": [
    "# 4. Referências\n",
    "\n",
    "Está é uma seção de referências com relação as bibliotecas que utilizamos ao longo deste arquivo\n",
    "\n",
    "NUMPY. NumPy Documentation. Disponível em: <https://numpy.org/doc/>.\n",
    "\n",
    "‌PANDAS. pandas documentation. Disponível em: <https://pandas.pydata.org/docs/>.\n",
    "\n",
    "MATPLOTLIB. Matplotlib: Python plotting — Matplotlib 3.3.4 documentation. Disponível em: <https://matplotlib.org/stable/index.html>.\n",
    "\n",
    "‌SEABORN. seaborn: statistical data visualization — seaborn 0.9.0 documentation. Disponível em: <https://seaborn.pydata.org/>.\n",
    "\n",
    "‌SciPy documentation — SciPy v1.8.1 Manual. Disponível em: <https://docs.scipy.org/doc/scipy/>.\n",
    "\n",
    "‌PYTHON SOFTWARE FOUNDATION. Math — Mathematical Functions — Python 3.8.3rc1 Documentation. Disponível em: <https://docs.python.org/3/library/math.html>.\n",
    "\n",
    "‌SCIKIT-LEARN. scikit-learn: machine learning in Python. Disponível em: <https://scikit-learn.org/stable/>.\n"
   ]
  }
 ],
 "metadata": {
  "kernelspec": {
   "display_name": "Python 3",
   "language": "python",
   "name": "python3"
  },
  "language_info": {
   "codemirror_mode": {
    "name": "ipython",
    "version": 3
   },
   "file_extension": ".py",
   "mimetype": "text/x-python",
   "name": "python",
   "nbconvert_exporter": "python",
   "pygments_lexer": "ipython3",
   "version": "3.12.4"
  }
 },
 "nbformat": 4,
 "nbformat_minor": 2
}
