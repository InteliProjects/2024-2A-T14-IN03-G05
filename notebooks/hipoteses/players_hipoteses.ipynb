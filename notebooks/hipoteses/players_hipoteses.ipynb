{
 "cells": [
  {
   "cell_type": "markdown",
   "metadata": {},
   "source": [
    "# Hipótese do Arquivo Players\n",
    "\n",
    "Este notebook será utilizado para apresentar e testar uma hipótese baseada nos dados da tabela **Players** fornecida pela IBM, que contém informações detalhadas sobre os jogadores de futebol, como resultados e estatísticas associadas. O foco principal é analisar os dados e validar uma hipótese específica relacionada ao desempenho dos times.\n",
    "\n",
    "## Objetivo\n",
    "\n",
    "O objetivo deste notebook é estruturar a hipótese de maneira clara e realizar análises que possam confirmá-la ou refutá-la, utilizando métodos estatísticos e exploratórios.\n",
    "\n",
    "## Como Usar Este Notebook\n",
    "\n",
    "1. **Configuração do Ambiente**:\n",
    "   - **Google Colab**: No Google Colab, faça o upload das tabelas para o Google Drive e monte o drive no notebook.\n",
    "   - **Localmente**: Se for rodar localmente, ajuste os caminhos dos arquivos ou coloque-os no mesmo diretório do notebook.\n",
    "\n",
    "2. **Instalação de Dependências**:\n",
    "   - Instale todas as bibliotecas necessárias com o comando:\n",
    "     ```python\n",
    "     !pip install -r requirements.txt\n",
    "     ```\n",
    "\n",
    "3. **Execução do Notebook**:\n",
    "   - Execute as células de código na sequência para garantir a correta análise dos dados.\n",
    "\n",
    "## Nesse Notebook Será Abordado\n",
    "\n",
    "1. **Formulação e Teste de Hipóteses**:\n",
    "   - Definição de uma hipótese com base nos dados.\n",
    "   - Teste da hipótese utilizando métodos estatísticos.\n",
    "   - Análise dos resultados para validar ou refutar a hipótese.\n",
    "\n",
    "# Dependências\n",
    "Para rodar o notebook de forma local, é recomendado que inicie uma venv (ambiente virtual) e instale as dependências.\n",
    "\n",
    "Se estiver utilizando o Google Colab, pule esta etapa.\n",
    "\n",
    "# Importando bibliotecas\n",
    "\n",
    "Aqui é importado as dependências necessárias para a executação do projeto."
   ]
  },
  {
   "cell_type": "code",
   "execution_count": 1,
   "metadata": {},
   "outputs": [],
   "source": [
    "import pandas as pd #para ler, visualizar e printar infos do df\n",
    "import matplotlib.pyplot as plt #para construir e customizar gráficos\n",
    "import seaborn as sns #para visualizar uns gráficos\n",
    "import numpy as np #numpy porque é sempre bom importar numpy"
   ]
  },
  {
   "cell_type": "markdown",
   "metadata": {},
   "source": [
    "# Carregando o dataset\n",
    "\n",
    "Feita a importação do arquivo para leitura dos dados."
   ]
  },
  {
   "cell_type": "code",
   "execution_count": 2,
   "metadata": {},
   "outputs": [],
   "source": [
    "df = pd.read_csv('../../notebooks/data/tratado/players_tratado.csv')"
   ]
  },
  {
   "cell_type": "markdown",
   "metadata": {},
   "source": [
    "### Hipótese 1 (Principal utilizada no modelo preditivo)\n",
    "### Probabilidade de um jogador fazer o gol"
   ]
  },
  {
   "cell_type": "markdown",
   "metadata": {},
   "source": [
    "## Gráfico da hipótese\n",
    "O heatmap da matriz de correlação é para identificar relações entre variáveis numéricas, permitindo a visualização rápida de padrões e correlações. Ele ajuda a entender como diferentes métricas estão inter-relacionadas, o que pode influenciar a análise de desempenho e a construção de modelos preditivos. Ao destacar variáveis com correlações fortes ou fracas, o heatmap orienta decisões sobre quais características merecem mais atenção na modelagem, potencializando a eficácia das análises e estratégias subsequentes.\n",
    "\n",
    "O heatmap proposto pela equipe incluiu as colunas goals_home(gols marcados em Casa), goals_away(gols marcados fora de casa), minutes_played_away(minutos Jogados fora de casa), minutes_played_home(minutos jogados fora de casa), games_started(jogos como titular), shots_on_target_per90_percentile_overall(precisão dos chutes (%)), e rank_in_league_top_attackers(ranking de melhores atacantes da liga). Essas colunas foram selecionadas porque, na tabela que trata dos dados dos jogadores, a equipe as considerou essenciais para a análise do modelo com o objetivo de identificar se um jogador teria chances de marcar gol ou não.\n",
    "\n",
    "A análise se concentrou exclusivamente em dados de atacantes, meias e defensores, excluindo os goleiros, porque estes raramente marcam gols. Como o foco é entender os fatores que influenciam a marcação de gols, os goleiros, cuja função principal é evitar gols, não são relevantes para essa análise."
   ]
  },
  {
   "cell_type": "code",
   "execution_count": null,
   "metadata": {},
   "outputs": [],
   "source": [
    "# Filtrar jogadores com as posições desejadas\n",
    "df_filtered = df[df['position'].isin(['Forward', 'Midfielder', 'Defender'])]\n",
    "\n",
    "# Selecionar e renomear as colunas desejadas\n",
    "df_filtered = df_filtered.rename(columns={\n",
    "    'goals_away': 'Gols feitos fora de casa',\n",
    "    'goals_home': 'Gols feitos dentro de casa',\n",
    "    'minutes_played_away': 'Minutos jogados fora de casa',\n",
    "    'minutes_played_home': 'Minutos jogados dentro de casa',\n",
    "    'games_started': 'Jogos como titular',\n",
    "    'rank_in_league_top_attackers': 'Ranking de melhores atacantes da liga'\n",
    "})\n",
    "\n",
    "# Selecionar as colunas renomeadas\n",
    "columns = [\n",
    "    'Gols feitos fora de casa',\n",
    "    'Gols feitos dentro de casa',\n",
    "    'Minutos jogados fora de casa',\n",
    "    'Minutos jogados dentro de casa',\n",
    "    'Jogos como titular',\n",
    "    'Ranking de melhores atacantes da liga'\n",
    "]\n",
    "\n",
    "df_subset = df_filtered[columns]\n",
    "\n",
    "# Calcular a matriz de correlação\n",
    "correlation_matrix = df_subset.corr()\n",
    "\n",
    "plt.figure(figsize=(10, 8))\n",
    "sns.heatmap(correlation_matrix, annot=True, cmap='coolwarm', fmt='.2f', linewidths=.5)\n",
    "plt.title('Heatmap das Estatísticas dos Jogadores')\n",
    "plt.show()"
   ]
  },
  {
   "cell_type": "markdown",
   "metadata": {},
   "source": [
    "O segundo gráfico mostra uma relação alta entre o tempo jogado e o número de gols marcados, indicando que jogadores que permanecem mais tempo em campo tendem a marcar mais gols. Cada ponto no gráfico representa o número de gols de um jogador específico em relação ao tempo que ele passou em campo. Assim, ao analisar o gráfico, é possível observar que, em geral, jogadores com mais tempo de jogo têm uma tendência a marcar um maior número de gols. Isso confirma que o tempo de jogo pode ter um impacto significativo na produtividade ofensiva dos jogadores."
   ]
  },
  {
   "cell_type": "code",
   "execution_count": null,
   "metadata": {},
   "outputs": [],
   "source": [
    "plt.figure(figsize=(10, 6))\n",
    "sns.scatterplot(x=df['minutes_played_home'], y=df['goals_home'])\n",
    "plt.axvline(x=200, color='red', linestyle='--', linewidth=2)  # Adiciona uma linha tracejada vermelha\n",
    "plt.title(\"Relação entre Minutos Jogados em Casa e Gols Feitos em Casa\")\n",
    "plt.xlabel(\"Minutos Jogados em Casa\")\n",
    "plt.ylabel(\"Gols Feitos em Casa\")\n",
    "plt.show()"
   ]
  },
  {
   "cell_type": "markdown",
   "metadata": {},
   "source": [
    "## Análise\n",
    "O heatmap de correlação revela relações importantes entre variáveis como gols marcados em casa e fora, minutos jogados, jogos como titular, precisão de chutes e o ranking entre os melhores atacantes. Destacam-se correlações significativas, como entre minutos jogados (em casa e fora) e o número de gols, indicando que quanto mais tempo um jogador permanece em campo, maior a probabilidade de ele marcar gols. Além disso, a precisão dos chutes (% de acertos) também apresenta relação com o desempenho ofensivo, sugerindo que jogadores com maior precisão tendem a ter um melhor aproveitamento em termos de gols.\n",
    "\n",
    "## Conclusão\n",
    "A análise confirma que o tempo jogado é um fator chave na produtividade ofensiva dos jogadores, pois aqueles que têm mais minutos em campo tendem a marcar mais gols. Além disso, a precisão dos chutes também influencia significativamente esse desempenho. Portanto, para otimizar o desempenho ofensivo, equipes devem dar atenção tanto ao tempo que os jogadores passam em campo quanto à sua eficácia em finalizações, priorizando jogadores com maior capacidade de transformar oportunidades em gols."
   ]
  },
  {
   "cell_type": "markdown",
   "metadata": {},
   "source": [
    "# 2. Referências\n",
    "\n",
    "Está é uma seção de referências com relação as bibliotecas que utilizamos ao longo deste arquivo\n",
    "\n",
    "NUMPY. NumPy Documentation. Disponível em: <https://numpy.org/doc/>.\n",
    "\n",
    "‌PANDAS. pandas documentation. Disponível em: <https://pandas.pydata.org/docs/>.\n",
    "\n",
    "MATPLOTLIB. Matplotlib: Python plotting — Matplotlib 3.3.4 documentation. Disponível em: <https://matplotlib.org/stable/index.html>.\n",
    "\n",
    "‌SEABORN. seaborn: statistical data visualization — seaborn 0.9.0 documentation. Disponível em: <https://seaborn.pydata.org/>.\n",
    "\n",
    "‌SciPy documentation — SciPy v1.8.1 Manual. Disponível em: <https://docs.scipy.org/doc/scipy/>.\n",
    "\n",
    "‌PYTHON SOFTWARE FOUNDATION. Math — Mathematical Functions — Python 3.8.3rc1 Documentation. Disponível em: <https://docs.python.org/3/library/math.html>.\n",
    "\n",
    "‌SCIKIT-LEARN. scikit-learn: machine learning in Python. Disponível em: <https://scikit-learn.org/stable/>.\n"
   ]
  }
 ],
 "metadata": {
  "kernelspec": {
   "display_name": "Python 3",
   "language": "python",
   "name": "python3"
  },
  "language_info": {
   "codemirror_mode": {
    "name": "ipython",
    "version": 3
   },
   "file_extension": ".py",
   "mimetype": "text/x-python",
   "name": "python",
   "nbconvert_exporter": "python",
   "pygments_lexer": "ipython3",
   "version": "3.12.4"
  }
 },
 "nbformat": 4,
 "nbformat_minor": 2
}
